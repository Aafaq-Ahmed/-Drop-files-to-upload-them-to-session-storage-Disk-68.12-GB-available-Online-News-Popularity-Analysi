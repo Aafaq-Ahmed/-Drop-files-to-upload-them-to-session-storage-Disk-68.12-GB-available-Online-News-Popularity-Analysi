{
  "cells": [
    {
      "cell_type": "markdown",
      "metadata": {
        "id": "TNa5rhpQ5lrB"
      },
      "source": [
        "# Online News Popularity Analysis and Prediction"
      ]
    },
    {
      "cell_type": "markdown",
      "metadata": {
        "id": "4taxbPIC5lrc"
      },
      "source": [
        "In the recent decades, internet has become a popular source for people to learn about news. Among all the news published online, some become really popular, but others do not. In this project, we aim to predict whether a news article will become popular or not, based on some characteristics of the article, such as number of words, article topic, and etc."
      ]
    },
    {
      "cell_type": "markdown",
      "metadata": {
        "id": "9f35K5dU5lrh"
      },
      "source": [
        "In this notebook, we will use multiple machine learning models, such as KNN, Naive Bayes, QDA, LDA, Logistic Regression and Random Forest to perform classification. We will then compare the CV scores to determine the most appropriate model."
      ]
    },
    {
      "cell_type": "code",
      "execution_count": 10,
      "metadata": {
        "id": "Ky60QX8m5lrl",
        "outputId": "2dd79978-2720-41de-9b12-3ac77a488157",
        "colab": {
          "base_uri": "https://localhost:8080/"
        }
      },
      "outputs": [
        {
          "output_type": "stream",
          "name": "stdout",
          "text": [
            "Populating the interactive namespace from numpy and matplotlib\n"
          ]
        }
      ],
      "source": [
        "%pylab inline"
      ]
    },
    {
      "cell_type": "code",
      "execution_count": 11,
      "metadata": {
        "id": "aPvfs0J45lsH"
      },
      "outputs": [],
      "source": [
        "import numpy as np\n",
        "import matplotlib.pyplot as plt\n",
        "from scipy import stats"
      ]
    },
    {
      "cell_type": "markdown",
      "metadata": {
        "id": "NBNKtoil5lsh"
      },
      "source": [
        "## Data Exploration and Feature Engineering"
      ]
    },
    {
      "cell_type": "markdown",
      "metadata": {
        "id": "npo8DLZM5ltq"
      },
      "source": [
        "The dataset is collected from a well-known news website called Mashable, and the dataset is provided by UCI machine learning repository (https://archive.ics.uci.edu/ml/datasets/online+news+popularity).\n",
        "\n",
        "In the original dataset, there are 39,797 instances, with 61 features. \n",
        "Performed the following to clean up the dataset:\n",
        "1. Columns contain news’ URL and days between the article publication and the dataset acquisition have been deleted (irrelevant information).\n",
        "\n",
        "2. Combine the channel into one column (named as channel), and use numbers to represent each channel:\n",
        "    1: Lifestyle\n",
        "    2: Entertainment\n",
        "    3: Business\n",
        "    4: Social\n",
        "    5: Tech\n",
        "    6: World\n",
        "    Delete the instance if channel information is missing (6287 instances have been deleted)\n",
        "    \n",
        "3. Combine the days into one column (named as days): 1 represents Mondy, 2 represents Tuesday, etc. Delete the column “is_weekend” (repetitive information).\n",
        "\n",
        "    \n",
        "After the cleaning process, the resulting dataset contains 33,510 instances, with 47 features.\n",
        "\n",
        "(The above steps are performed directly on the csv data file in excel.)"
      ]
    },
    {
      "cell_type": "markdown",
      "metadata": {
        "id": "NY1Dd7-d5lt6"
      },
      "source": [
        "### Assign the class"
      ]
    },
    {
      "cell_type": "markdown",
      "metadata": {
        "id": "4wbgCEig5luH"
      },
      "source": [
        "The goal is to perform the classification algorithm, so that based on the features of an article, we will be able to predict whether it will become popular or not. Thus, the first step is to define what is popular and what is not.\n",
        "\n",
        "We will use the column \"shares\" as an indicator of popularity. Explore the \"shares\" column\":"
      ]
    },
    {
      "cell_type": "code",
      "execution_count": 12,
      "metadata": {
        "id": "MwBUFGwx5luX"
      },
      "outputs": [],
      "source": [
        "import pandas as pd\n",
        "df = pd.read_csv('OnlineNewsPopularity.csv', sep=',') "
      ]
    },
    {
      "cell_type": "code",
      "execution_count": 13,
      "metadata": {
        "id": "zBuuFhKu5lub",
        "outputId": "dec44cab-ce4f-4c6b-ed4f-f0316ef30deb",
        "colab": {
          "base_uri": "https://localhost:8080/"
        }
      },
      "outputs": [
        {
          "output_type": "stream",
          "name": "stdout",
          "text": [
            "count     39644.000000\n",
            "mean       3395.380184\n",
            "std       11626.950749\n",
            "min           1.000000\n",
            "25%         946.000000\n",
            "50%        1400.000000\n",
            "75%        2800.000000\n",
            "max      843300.000000\n",
            "Name:  shares, dtype: float64\n"
          ]
        }
      ],
      "source": [
        "print(df[' shares'].describe())"
      ]
    },
    {
      "cell_type": "code",
      "execution_count": 14,
      "metadata": {
        "id": "xD21NDyj5luh",
        "outputId": "192c9679-c792-43b4-a92a-331892950895",
        "colab": {
          "base_uri": "https://localhost:8080/",
          "height": 404
        }
      },
      "outputs": [
        {
          "output_type": "execute_result",
          "data": {
            "text/plain": [
              "{'boxes': [<matplotlib.lines.Line2D at 0x7f96bfca8410>],\n",
              " 'caps': [<matplotlib.lines.Line2D at 0x7f96bfca2510>,\n",
              "  <matplotlib.lines.Line2D at 0x7f96bfca2a50>],\n",
              " 'fliers': [<matplotlib.lines.Line2D at 0x7f96bfc99550>],\n",
              " 'means': [],\n",
              " 'medians': [<matplotlib.lines.Line2D at 0x7f96bfca2fd0>],\n",
              " 'whiskers': [<matplotlib.lines.Line2D at 0x7f96bfca8a50>,\n",
              "  <matplotlib.lines.Line2D at 0x7f96bfca8f90>]}"
            ]
          },
          "metadata": {},
          "execution_count": 14
        },
        {
          "output_type": "display_data",
          "data": {
            "text/plain": [
              "<Figure size 432x288 with 1 Axes>"
            ],
            "image/png": "[encoded data removed]"
          },
          "metadata": {
            "needs_background": "light"
          }
        }
      ],
      "source": [
        "plt.boxplot(df[' shares'])"
      ]
    },
    {
      "cell_type": "code",
      "execution_count": 15,
      "metadata": {
        "id": "eQqw6Qvu5lur",
        "outputId": "02da0291-0da5-41d7-a9c7-196372edb09e",
        "colab": {
          "base_uri": "https://localhost:8080/",
          "height": 282
        }
      },
      "outputs": [
        {
          "output_type": "execute_result",
          "data": {
            "text/plain": [
              "<matplotlib.axes._subplots.AxesSubplot at 0x7f96bf553b50>"
            ]
          },
          "metadata": {},
          "execution_count": 15
        },
        {
          "output_type": "display_data",
          "data": {
            "text/plain": [
              "<Figure size 432x288 with 1 Axes>"
            ],
            "image/png": "[encoded data removed]"
          },
          "metadata": {
            "needs_background": "light"
          }
        }
      ],
      "source": [
        "df[' shares'].plot(style='o')"
      ]
    },
    {
      "cell_type": "markdown",
      "metadata": {
        "scrolled": true,
        "id": "JVlsW7jw5luu"
      },
      "source": [
        "From the boxplot and statistics summary, we could see that the target column \"shares\" has some outliers, but most of them are under 2500. For our purpose, we will regard the articles with shares > 1400 as popular, and not popular otherwise.\n",
        "\n",
        "For the convenience of future use, directly add a column called \"class\" in the data csv file, and assign the classes as described above. The dataset is stored in \"OnlineNewsPopularity2\".csv"
      ]
    },
    {
      "cell_type": "markdown",
      "metadata": {
        "id": "8bwFpejk5lu1"
      },
      "source": [
        "### Feature Selection - Fisher Score"
      ]
    },
    {
      "cell_type": "markdown",
      "metadata": {
        "id": "XHvzHXdM5lu3"
      },
      "source": [
        "We firstly calculate the Fisher Score of each feature, and rank them from the largest to smallest. \n",
        "\n",
        "F-score provides a measure of how well a single feature at a time can discriminate between different classes. The higher the F-score, the better the discriminatory power of that feature.\n",
        "\n",
        "This process is performed using R, and the result table is shown here: \n",
        "\n",
        "(the R code is also available here:https://github.com/ruoxi430/News-Popularity )"
      ]
    },
    {
      "cell_type": "markdown",
      "metadata": {
        "id": "F-HsDsSW5lu7"
      },
      "source": [
        "<img src=\"https://github.com/Aafaq-Ahmed/News-Popularity/blob/master/picture.png?raw=1\" width=\"400\">"
      ]
    },
    {
      "cell_type": "markdown",
      "metadata": {
        "id": "oDf6l9Mz5lu9"
      },
      "source": [
        "We keep the top 25 features with highest F-score. The change is directly done with the data csv file, and the data are stored in \"OnlineNewsPopularity4\".csv\n",
        "\n",
        "In the next step, we calculated the covariance matrix for further feature selection."
      ]
    },
    {
      "cell_type": "markdown",
      "metadata": {
        "id": "JMrbNlvA5lu-"
      },
      "source": [
        "### Feature Selection -  Covariance Matrix"
      ]
    },
    {
      "cell_type": "code",
      "execution_count": 16,
      "metadata": {
        "id": "d9YFnxD-5lvC",
        "outputId": "e4fc132b-0b09-4f3c-c04e-6b77b26d30d8",
        "colab": {
          "base_uri": "https://localhost:8080/"
        }
      },
      "outputs": [
        {
          "output_type": "stream",
          "name": "stderr",
          "text": [
            "/usr/local/lib/python3.7/dist-packages/IPython/core/interactiveshell.py:2882: DtypeWarning: Columns (0,1,2,3,4,5,6,7,8,9,10,11,12,13,14,15,16,17,18,19,20,21,22,23,24,25,26) have mixed types.Specify dtype option on import or set low_memory=False.\n",
            "  exec(code_obj, self.user_global_ns, self.user_ns)\n"
          ]
        }
      ],
      "source": [
        "df2 = pd.read_csv('OnlineNewsPopularity4.csv', sep=',')"
      ]
    },
    {
      "cell_type": "code",
      "execution_count": 17,
      "metadata": {
        "id": "vGQSP-_-5lvF",
        "outputId": "ebad960c-0a9d-4777-98ff-1f649f58d35c",
        "colab": {
          "base_uri": "https://localhost:8080/"
        }
      },
      "outputs": [
        {
          "output_type": "execute_result",
          "data": {
            "text/plain": [
              "27"
            ]
          },
          "metadata": {},
          "execution_count": 17
        }
      ],
      "source": [
        "len(df2.columns)"
      ]
    },
    {
      "cell_type": "code",
      "execution_count": 18,
      "metadata": {
        "id": "DY9eIO_B5lvH",
        "outputId": "573a06e7-2924-4073-9c23-1f8639c932fc",
        "colab": {
          "base_uri": "https://localhost:8080/",
          "height": 510
        }
      },
      "outputs": [
        {
          "output_type": "stream",
          "name": "stderr",
          "text": [
            "/usr/local/lib/python3.7/dist-packages/ipykernel_launcher.py:5: UserWarning: Attempting to set identical left == right == -0.5 results in singular transformations; automatically expanding.\n",
            "  \"\"\"\n",
            "/usr/local/lib/python3.7/dist-packages/ipykernel_launcher.py:5: UserWarning: Attempting to set identical bottom == top == -0.5 results in singular transformations; automatically expanding.\n",
            "  \"\"\"\n"
          ]
        },
        {
          "output_type": "display_data",
          "data": {
            "text/plain": [
              "<Figure size 504x504 with 2 Axes>"
            ],
            "image/png": "[encoded data removed]"
          },
          "metadata": {
            "needs_background": "light"
          }
        }
      ],
      "source": [
        "correlations = df2.corr()\n",
        "# plot correlation matrix\n",
        "fig = plt.figure(figsize=(7,7))\n",
        "ax = fig.add_subplot(111)\n",
        "cax = ax.matshow(correlations, vmin=-1, vmax=1)\n",
        "fig.colorbar(cax)\n",
        "ticks = np.arange(0,27,1)\n",
        "ax.set_xticks(ticks)\n",
        "ax.set_yticks(ticks)\n",
        "plt.show()"
      ]
    },
    {
      "cell_type": "markdown",
      "metadata": {
        "id": "2P5Rh-wC5lvJ"
      },
      "source": [
        "It is easy to see there are several variables have high correlation. After considering the nature of these features, we elimintaed 6 highly correalted varaibles.\n",
        "\n",
        "The final cleaned dataset version is stored in \"OnlineNewsPopularityCleaned2.csv\", with 19 features."
      ]
    },
    {
      "cell_type": "code",
      "execution_count": 20,
      "metadata": {
        "id": "h1NI5HxL5lvM"
      },
      "outputs": [],
      "source": [
        "df3 = pd.read_csv('OnlineNewsPopularityCleaned2.csv', sep=',')"
      ]
    },
    {
      "cell_type": "code",
      "execution_count": 21,
      "metadata": {
        "id": "R4xQvx2u5lvO",
        "outputId": "5821959b-b08c-4132-ed85-8c2ef36b785b",
        "colab": {
          "base_uri": "https://localhost:8080/"
        }
      },
      "outputs": [
        {
          "output_type": "execute_result",
          "data": {
            "text/plain": [
              "21"
            ]
          },
          "metadata": {},
          "execution_count": 21
        }
      ],
      "source": [
        "len(df3.columns)"
      ]
    },
    {
      "cell_type": "code",
      "execution_count": 22,
      "metadata": {
        "id": "DJj_9V_g5lvP",
        "outputId": "de1a340f-29d3-4f47-a499-7616929b7533",
        "colab": {
          "base_uri": "https://localhost:8080/",
          "height": 421
        }
      },
      "outputs": [
        {
          "output_type": "display_data",
          "data": {
            "text/plain": [
              "<Figure size 504x504 with 2 Axes>"
            ],
            "image/png": "[encoded data removed]"
          },
          "metadata": {
            "needs_background": "light"
          }
        }
      ],
      "source": [
        "correlations2 = df3.corr()\n",
        "# plot correlation matrix\n",
        "fig = plt.figure(figsize=(7,7))\n",
        "ax = fig.add_subplot(111)\n",
        "cax = ax.matshow(correlations2, vmin=-1, vmax=1)\n",
        "fig.colorbar(cax)\n",
        "ticks = np.arange(0,21,1)\n",
        "ax.set_xticks(ticks)\n",
        "ax.set_yticks(ticks)\n",
        "plt.show()"
      ]
    },
    {
      "cell_type": "markdown",
      "metadata": {
        "id": "iIBSMYl05lvV"
      },
      "source": [
        "Looks good now!\n",
        "\n",
        "We could begin to train the classification models."
      ]
    },
    {
      "cell_type": "markdown",
      "metadata": {
        "id": "GeQ2UPaa5lwb"
      },
      "source": [
        "### 2. Naive Bayes, LDA, QDA"
      ]
    },
    {
      "cell_type": "code",
      "execution_count": 29,
      "metadata": {
        "id": "KrnLNf2p5lwc"
      },
      "outputs": [],
      "source": [
        "from sklearn.naive_bayes import GaussianNB \n",
        "from sklearn.discriminant_analysis import QuadraticDiscriminantAnalysis as QDA\n",
        "from sklearn.discriminant_analysis import LinearDiscriminantAnalysis as LDA\n",
        "from sklearn.model_selection import train_test_split\n",
        "from sklearn.model_selection import cross_val_score"
      ]
    },
    {
      "cell_type": "code",
      "execution_count": 30,
      "metadata": {
        "id": "rSobkrir5lwe"
      },
      "outputs": [],
      "source": [
        "data2 = np.loadtxt('OnlineNewsPopularityCleaned2.csv', delimiter=',', skiprows=1)\n",
        "target = data2[:,-1].reshape(len(data2),1)\n",
        "features = data2[:,:-2]"
      ]
    },
    {
      "cell_type": "code",
      "execution_count": 31,
      "metadata": {
        "id": "hr_ghjr65lwh"
      },
      "outputs": [],
      "source": [
        "X_train, X_test, y_train, y_test = train_test_split(features, target, test_size=0.30)\n",
        "\n",
        "gnb = GaussianNB()\n",
        "qda = QDA()\n",
        "lda = LDA()"
      ]
    },
    {
      "cell_type": "code",
      "execution_count": 32,
      "metadata": {
        "id": "R6bxXb2k5lwj",
        "outputId": "956ee9d6-f828-4d42-e0bb-fa4cf4350e8b",
        "colab": {
          "base_uri": "https://localhost:8080/"
        }
      },
      "outputs": [
        {
          "output_type": "stream",
          "name": "stderr",
          "text": [
            "/usr/local/lib/python3.7/dist-packages/sklearn/utils/validation.py:993: DataConversionWarning: A column-vector y was passed when a 1d array was expected. Please change the shape of y to (n_samples, ), for example using ravel().\n",
            "  y = column_or_1d(y, warn=True)\n",
            "/usr/local/lib/python3.7/dist-packages/sklearn/utils/validation.py:993: DataConversionWarning: A column-vector y was passed when a 1d array was expected. Please change the shape of y to (n_samples, ), for example using ravel().\n",
            "  y = column_or_1d(y, warn=True)\n",
            "/usr/local/lib/python3.7/dist-packages/sklearn/utils/validation.py:993: DataConversionWarning: A column-vector y was passed when a 1d array was expected. Please change the shape of y to (n_samples, ), for example using ravel().\n",
            "  y = column_or_1d(y, warn=True)\n",
            "/usr/local/lib/python3.7/dist-packages/sklearn/utils/validation.py:993: DataConversionWarning: A column-vector y was passed when a 1d array was expected. Please change the shape of y to (n_samples, ), for example using ravel().\n",
            "  y = column_or_1d(y, warn=True)\n",
            "/usr/local/lib/python3.7/dist-packages/sklearn/utils/validation.py:993: DataConversionWarning: A column-vector y was passed when a 1d array was expected. Please change the shape of y to (n_samples, ), for example using ravel().\n",
            "  y = column_or_1d(y, warn=True)\n",
            "/usr/local/lib/python3.7/dist-packages/sklearn/utils/validation.py:993: DataConversionWarning: A column-vector y was passed when a 1d array was expected. Please change the shape of y to (n_samples, ), for example using ravel().\n",
            "  y = column_or_1d(y, warn=True)\n",
            "/usr/local/lib/python3.7/dist-packages/sklearn/utils/validation.py:993: DataConversionWarning: A column-vector y was passed when a 1d array was expected. Please change the shape of y to (n_samples, ), for example using ravel().\n",
            "  y = column_or_1d(y, warn=True)\n",
            "/usr/local/lib/python3.7/dist-packages/sklearn/utils/validation.py:993: DataConversionWarning: A column-vector y was passed when a 1d array was expected. Please change the shape of y to (n_samples, ), for example using ravel().\n",
            "  y = column_or_1d(y, warn=True)\n"
          ]
        },
        {
          "output_type": "stream",
          "name": "stdout",
          "text": [
            "0.5371232467920024\n"
          ]
        },
        {
          "output_type": "stream",
          "name": "stderr",
          "text": [
            "/usr/local/lib/python3.7/dist-packages/sklearn/utils/validation.py:993: DataConversionWarning: A column-vector y was passed when a 1d array was expected. Please change the shape of y to (n_samples, ), for example using ravel().\n",
            "  y = column_or_1d(y, warn=True)\n",
            "/usr/local/lib/python3.7/dist-packages/sklearn/utils/validation.py:993: DataConversionWarning: A column-vector y was passed when a 1d array was expected. Please change the shape of y to (n_samples, ), for example using ravel().\n",
            "  y = column_or_1d(y, warn=True)\n",
            "/usr/local/lib/python3.7/dist-packages/sklearn/utils/validation.py:993: DataConversionWarning: A column-vector y was passed when a 1d array was expected. Please change the shape of y to (n_samples, ), for example using ravel().\n",
            "  y = column_or_1d(y, warn=True)\n"
          ]
        },
        {
          "output_type": "stream",
          "name": "stdout",
          "text": [
            "0.5433005073112503\n"
          ]
        },
        {
          "output_type": "stream",
          "name": "stderr",
          "text": [
            "/usr/local/lib/python3.7/dist-packages/sklearn/utils/validation.py:993: DataConversionWarning: A column-vector y was passed when a 1d array was expected. Please change the shape of y to (n_samples, ), for example using ravel().\n",
            "  y = column_or_1d(y, warn=True)\n",
            "/usr/local/lib/python3.7/dist-packages/sklearn/utils/validation.py:993: DataConversionWarning: A column-vector y was passed when a 1d array was expected. Please change the shape of y to (n_samples, ), for example using ravel().\n",
            "  y = column_or_1d(y, warn=True)\n",
            "/usr/local/lib/python3.7/dist-packages/sklearn/utils/validation.py:993: DataConversionWarning: A column-vector y was passed when a 1d array was expected. Please change the shape of y to (n_samples, ), for example using ravel().\n",
            "  y = column_or_1d(y, warn=True)\n",
            "/usr/local/lib/python3.7/dist-packages/sklearn/utils/validation.py:993: DataConversionWarning: A column-vector y was passed when a 1d array was expected. Please change the shape of y to (n_samples, ), for example using ravel().\n",
            "  y = column_or_1d(y, warn=True)\n"
          ]
        },
        {
          "output_type": "stream",
          "name": "stdout",
          "text": [
            "0.6115786332438079\n"
          ]
        }
      ],
      "source": [
        "print(mean(cross_val_score(gnb, features, target, cv=5)))\n",
        "print(mean(cross_val_score(qda, features, target, cv=5)))\n",
        "print(mean(cross_val_score(lda, features, target, cv=5)))"
      ]
    },
    {
      "cell_type": "markdown",
      "metadata": {
        "id": "F3c6H1vV5lwt"
      },
      "source": [
        "### 3. Random Forest"
      ]
    },
    {
      "cell_type": "code",
      "execution_count": 33,
      "metadata": {
        "id": "TDiTiW6w5lww"
      },
      "outputs": [],
      "source": [
        "df_t2 = pd.read_csv('OnlineNewsPopularityCleaned2.csv', sep=',')\n",
        "data3 = df_t2.values"
      ]
    },
    {
      "cell_type": "code",
      "execution_count": 34,
      "metadata": {
        "id": "Ab-DCEQu5lwy"
      },
      "outputs": [],
      "source": [
        "target3 = data3[1:,-1]\n",
        "features3= data3[1:,:19]"
      ]
    },
    {
      "cell_type": "code",
      "execution_count": 35,
      "metadata": {
        "id": "8m7J2nRf5lwz"
      },
      "outputs": [],
      "source": [
        "#from sklearn import decomposition\n",
        "#pca = decomposition.PCA(n_components=3, whiten=True)\n",
        "#pca_feature = pca.fit_transform(features2)"
      ]
    },
    {
      "cell_type": "code",
      "execution_count": 36,
      "metadata": {
        "id": "IHnyN8w-5lw3"
      },
      "outputs": [],
      "source": [
        "from sklearn.ensemble import RandomForestClassifier\n",
        "rf2 = RandomForestClassifier(n_estimators=300,max_depth=15,max_features=5)"
      ]
    },
    {
      "cell_type": "code",
      "execution_count": 37,
      "metadata": {
        "id": "VbKj2HGY5lw5"
      },
      "outputs": [],
      "source": [
        "from sklearn.model_selection import train_test_split\n",
        "train_features, test_features, train_target, test_target = train_test_split(features3, target3, test_size = 0.2, random_state = 42)"
      ]
    },
    {
      "cell_type": "code",
      "execution_count": 38,
      "metadata": {
        "id": "wNSS31zM5lw7",
        "outputId": "1e148dbc-e865-4de6-f0ce-9fad9bbbdc9b",
        "colab": {
          "base_uri": "https://localhost:8080/"
        }
      },
      "outputs": [
        {
          "output_type": "execute_result",
          "data": {
            "text/plain": [
              "RandomForestClassifier(max_depth=15, max_features=5, n_estimators=300)"
            ]
          },
          "metadata": {},
          "execution_count": 38
        }
      ],
      "source": [
        "rf2.fit(train_features, train_target)"
      ]
    },
    {
      "cell_type": "code",
      "execution_count": 39,
      "metadata": {
        "id": "7UQ4rYIc5lw-",
        "outputId": "5da493c0-c87c-497c-eeac-8cd6f4574dcf",
        "colab": {
          "base_uri": "https://localhost:8080/"
        }
      },
      "outputs": [
        {
          "output_type": "execute_result",
          "data": {
            "text/plain": [
              "array([0.61101164, 0.65383468, 0.65950463, 0.6786034 , 0.66348306])"
            ]
          },
          "metadata": {},
          "execution_count": 39
        }
      ],
      "source": [
        "cross_val_score(rf2, features3,target3, cv=5)"
      ]
    },
    {
      "cell_type": "code",
      "execution_count": 40,
      "metadata": {
        "id": "GS_F0FgM5lw_",
        "outputId": "87e44c73-77ee-4ba7-f598-226bb83c50e8",
        "colab": {
          "base_uri": "https://localhost:8080/"
        }
      },
      "outputs": [
        {
          "output_type": "execute_result",
          "data": {
            "text/plain": [
              "0.6530506920000001"
            ]
          },
          "metadata": {},
          "execution_count": 40
        }
      ],
      "source": [
        "np.mean([0.61345666, 0.65308863, 0.65652044, 0.67691389, 0.66527384])"
      ]
    },
    {
      "cell_type": "markdown",
      "metadata": {
        "id": "l2gwM_7m5lxA"
      },
      "source": [
        "### Result Summary"
      ]
    },
    {
      "cell_type": "markdown",
      "metadata": {
        "id": "w96fIS_G5lxB"
      },
      "source": [
        "The average accuracy of the classifiction models are:\n",
        "\n",
        "Naive Bayes: 0.54\n",
        "\n",
        "LDA:0.61\n",
        "\n",
        "QDA:0.54\n",
        "\n",
        "Random Forest:0.65\n",
        "\n",
        "\n",
        "Random Forest has the best performance."
      ]
    },
    {
      "cell_type": "markdown",
      "metadata": {
        "id": "F_o63UzL5lxC"
      },
      "source": [
        "Also, from the random forest, we could also calcualte the feature importance:"
      ]
    },
    {
      "cell_type": "code",
      "execution_count": 41,
      "metadata": {
        "id": "iBrd1DXg5lxD"
      },
      "outputs": [],
      "source": [
        "df4 = pd.DataFrame(train_features)"
      ]
    },
    {
      "cell_type": "code",
      "execution_count": 42,
      "metadata": {
        "id": "mqssfoxG5lxE"
      },
      "outputs": [],
      "source": [
        "df4.columns = ['n_tokens_title', 'n_tokens_content', 'n_unique_tokens', 'num_hrefs', 'num_keywords', 'kw_min_min', 'kw_avg_avg', 'self_reference_avg_sharess', 'day', 'LDA_00', 'LDA_01', 'LDA_02', 'LDA_04', 'global_subjectivity', 'global_sentiment_polarity', 'global_rate_positive_words', \n",
        "               'rate_negative_words', 'title_sentiment_polarity', 'channel']"
      ]
    },
    {
      "cell_type": "code",
      "execution_count": 43,
      "metadata": {
        "id": "LfVGwCmA5lxH"
      },
      "outputs": [],
      "source": [
        "feature_importances = pd.DataFrame(rf2.feature_importances_,\n",
        "                                   index = df4.columns,\n",
        "                                    columns=['importance']).sort_values('importance', ascending=False)"
      ]
    },
    {
      "cell_type": "code",
      "execution_count": 44,
      "metadata": {
        "id": "cyppmKJD5lxI",
        "outputId": "8e792b3b-1b25-464a-d401-1f83478ea7b5",
        "colab": {
          "base_uri": "https://localhost:8080/",
          "height": 645
        }
      },
      "outputs": [
        {
          "output_type": "execute_result",
          "data": {
            "text/plain": [
              "                            importance\n",
              "kw_avg_avg                    0.104156\n",
              "self_reference_avg_sharess    0.075524\n",
              "LDA_02                        0.067818\n",
              "LDA_04                        0.061936\n",
              "n_unique_tokens               0.061032\n",
              "LDA_00                        0.060815\n",
              "LDA_01                        0.059952\n",
              "n_tokens_content              0.057375\n",
              "global_subjectivity           0.055858\n",
              "global_sentiment_polarity     0.055803\n",
              "global_rate_positive_words    0.055646\n",
              "day                           0.051245\n",
              "rate_negative_words           0.049511\n",
              "num_hrefs                     0.042167\n",
              "channel                       0.040954\n",
              "title_sentiment_polarity      0.033416\n",
              "n_tokens_title                0.029978\n",
              "num_keywords                  0.018701\n",
              "kw_min_min                    0.018112"
            ],
            "text/html": [
              "\n",
              "  <div id=\"df-012a9e9b-ded8-4d87-8a61-f7f6f1e2f309\">\n",
              "    <div class=\"colab-df-container\">\n",
              "      <div>\n",
              "<style scoped>\n",
              "    .dataframe tbody tr th:only-of-type {\n",
              "        vertical-align: middle;\n",
              "    }\n",
              "\n",
              "    .dataframe tbody tr th {\n",
              "        vertical-align: top;\n",
              "    }\n",
              "\n",
              "    .dataframe thead th {\n",
              "        text-align: right;\n",
              "    }\n",
              "</style>\n",
              "<table border=\"1\" class=\"dataframe\">\n",
              "  <thead>\n",
              "    <tr style=\"text-align: right;\">\n",
              "      <th></th>\n",
              "      <th>importance</th>\n",
              "    </tr>\n",
              "  </thead>\n",
              "  <tbody>\n",
              "    <tr>\n",
              "      <th>kw_avg_avg</th>\n",
              "      <td>0.104156</td>\n",
              "    </tr>\n",
              "    <tr>\n",
              "      <th>self_reference_avg_sharess</th>\n",
              "      <td>0.075524</td>\n",
              "    </tr>\n",
              "    <tr>\n",
              "      <th>LDA_02</th>\n",
              "      <td>0.067818</td>\n",
              "    </tr>\n",
              "    <tr>\n",
              "      <th>LDA_04</th>\n",
              "      <td>0.061936</td>\n",
              "    </tr>\n",
              "    <tr>\n",
              "      <th>n_unique_tokens</th>\n",
              "      <td>0.061032</td>\n",
              "    </tr>\n",
              "    <tr>\n",
              "      <th>LDA_00</th>\n",
              "      <td>0.060815</td>\n",
              "    </tr>\n",
              "    <tr>\n",
              "      <th>LDA_01</th>\n",
              "      <td>0.059952</td>\n",
              "    </tr>\n",
              "    <tr>\n",
              "      <th>n_tokens_content</th>\n",
              "      <td>0.057375</td>\n",
              "    </tr>\n",
              "    <tr>\n",
              "      <th>global_subjectivity</th>\n",
              "      <td>0.055858</td>\n",
              "    </tr>\n",
              "    <tr>\n",
              "      <th>global_sentiment_polarity</th>\n",
              "      <td>0.055803</td>\n",
              "    </tr>\n",
              "    <tr>\n",
              "      <th>global_rate_positive_words</th>\n",
              "      <td>0.055646</td>\n",
              "    </tr>\n",
              "    <tr>\n",
              "      <th>day</th>\n",
              "      <td>0.051245</td>\n",
              "    </tr>\n",
              "    <tr>\n",
              "      <th>rate_negative_words</th>\n",
              "      <td>0.049511</td>\n",
              "    </tr>\n",
              "    <tr>\n",
              "      <th>num_hrefs</th>\n",
              "      <td>0.042167</td>\n",
              "    </tr>\n",
              "    <tr>\n",
              "      <th>channel</th>\n",
              "      <td>0.040954</td>\n",
              "    </tr>\n",
              "    <tr>\n",
              "      <th>title_sentiment_polarity</th>\n",
              "      <td>0.033416</td>\n",
              "    </tr>\n",
              "    <tr>\n",
              "      <th>n_tokens_title</th>\n",
              "      <td>0.029978</td>\n",
              "    </tr>\n",
              "    <tr>\n",
              "      <th>num_keywords</th>\n",
              "      <td>0.018701</td>\n",
              "    </tr>\n",
              "    <tr>\n",
              "      <th>kw_min_min</th>\n",
              "      <td>0.018112</td>\n",
              "    </tr>\n",
              "  </tbody>\n",
              "</table>\n",
              "</div>\n",
              "      <button class=\"colab-df-convert\" onclick=\"convertToInteractive('df-012a9e9b-ded8-4d87-8a61-f7f6f1e2f309')\"\n",
              "              title=\"Convert this dataframe to an interactive table.\"\n",
              "              style=\"display:none;\">\n",
              "        \n",
              "  <svg xmlns=\"http://www.w3.org/2000/svg\" height=\"24px\"viewBox=\"0 0 24 24\"\n",
              "       width=\"24px\">\n",
              "    <path d=\"M0 0h24v24H0V0z\" fill=\"none\"/>\n",
              "    <path d=\"M18.56 5.44l.94 2.06.94-2.06 2.06-.94-2.06-.94-.94-2.06-.94 2.06-2.06.94zm-11 1L8.5 8.5l.94-2.06 2.06-.94-2.06-.94L8.5 2.5l-.94 2.06-2.06.94zm10 10l.94 2.06.94-2.06 2.06-.94-2.06-.94-.94-2.06-.94 2.06-2.06.94z\"/><path d=\"M17.41 7.96l-1.37-1.37c-.4-.4-.92-.59-1.43-.59-.52 0-1.04.2-1.43.59L10.3 9.45l-7.72 7.72c-.78.78-.78 2.05 0 2.83L4 21.41c.39.39.9.59 1.41.59.51 0 1.02-.2 1.41-.59l7.78-7.78 2.81-2.81c.8-.78.8-2.07 0-2.86zM5.41 20L4 18.59l7.72-7.72 1.47 1.35L5.41 20z\"/>\n",
              "  </svg>\n",
              "      </button>\n",
              "      \n",
              "  <style>\n",
              "    .colab-df-container {\n",
              "      display:flex;\n",
              "      flex-wrap:wrap;\n",
              "      gap: 12px;\n",
              "    }\n",
              "\n",
              "    .colab-df-convert {\n",
              "      background-color: #E8F0FE;\n",
              "      border: none;\n",
              "      border-radius: 50%;\n",
              "      cursor: pointer;\n",
              "      display: none;\n",
              "      fill: #1967D2;\n",
              "      height: 32px;\n",
              "      padding: 0 0 0 0;\n",
              "      width: 32px;\n",
              "    }\n",
              "\n",
              "    .colab-df-convert:hover {\n",
              "      background-color: #E2EBFA;\n",
              "      box-shadow: 0px 1px 2px rgba(60, 64, 67, 0.3), 0px 1px 3px 1px rgba(60, 64, 67, 0.15);\n",
              "      fill: #174EA6;\n",
              "    }\n",
              "\n",
              "    [theme=dark] .colab-df-convert {\n",
              "      background-color: #3B4455;\n",
              "      fill: #D2E3FC;\n",
              "    }\n",
              "\n",
              "    [theme=dark] .colab-df-convert:hover {\n",
              "      background-color: #434B5C;\n",
              "      box-shadow: 0px 1px 3px 1px rgba(0, 0, 0, 0.15);\n",
              "      filter: drop-shadow(0px 1px 2px rgba(0, 0, 0, 0.3));\n",
              "      fill: #FFFFFF;\n",
              "    }\n",
              "  </style>\n",
              "\n",
              "      <script>\n",
              "        const buttonEl =\n",
              "          document.querySelector('#df-012a9e9b-ded8-4d87-8a61-f7f6f1e2f309 button.colab-df-convert');\n",
              "        buttonEl.style.display =\n",
              "          google.colab.kernel.accessAllowed ? 'block' : 'none';\n",
              "\n",
              "        async function convertToInteractive(key) {\n",
              "          const element = document.querySelector('#df-012a9e9b-ded8-4d87-8a61-f7f6f1e2f309');\n",
              "          const dataTable =\n",
              "            await google.colab.kernel.invokeFunction('convertToInteractive',\n",
              "                                                     [key], {});\n",
              "          if (!dataTable) return;\n",
              "\n",
              "          const docLinkHtml = 'Like what you see? Visit the ' +\n",
              "            '<a target=\"_blank\" href=https://colab.research.google.com/notebooks/data_table.ipynb>data table notebook</a>'\n",
              "            + ' to learn more about interactive tables.';\n",
              "          element.innerHTML = '';\n",
              "          dataTable['output_type'] = 'display_data';\n",
              "          await google.colab.output.renderOutput(dataTable, element);\n",
              "          const docLink = document.createElement('div');\n",
              "          docLink.innerHTML = docLinkHtml;\n",
              "          element.appendChild(docLink);\n",
              "        }\n",
              "      </script>\n",
              "    </div>\n",
              "  </div>\n",
              "  "
            ]
          },
          "metadata": {},
          "execution_count": 44
        }
      ],
      "source": [
        "feature_importances"
      ]
    },
    {
      "cell_type": "markdown",
      "metadata": {
        "id": "KlJ6Di8d5lxK"
      },
      "source": [
        "From this, we could see that articles that refers to other popular articles, uses popular keywords, and discusses popular topics, are more likely to become popular."
      ]
    },
    {
      "cell_type": "code",
      "execution_count": null,
      "metadata": {
        "id": "RV7xzMJr5lxg"
      },
      "outputs": [],
      "source": [
        ""
      ]
    }
  ],
  "metadata": {
    "kernelspec": {
      "display_name": "Python 3",
      "language": "python",
      "name": "python3"
    },
    "language_info": {
      "codemirror_mode": {
        "name": "ipython",
        "version": 3
      },
      "file_extension": ".py",
      "mimetype": "text/x-python",
      "name": "python",
      "nbconvert_exporter": "python",
      "pygments_lexer": "ipython3",
      "version": "3.6.3"
    },
    "colab": {
      "name": "News Popularity Analysis.ipynb",
      "provenance": []
    }
  },
  "nbformat": 4,
  "nbformat_minor": 0
}